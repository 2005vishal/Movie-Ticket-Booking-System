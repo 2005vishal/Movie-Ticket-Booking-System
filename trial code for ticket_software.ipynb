{
 "cells": [
  {
   "cell_type": "code",
   "execution_count": 2,
   "id": "e2922cdb-8aab-4acb-91df-e3475be350cd",
   "metadata": {},
   "outputs": [
    {
     "name": "stderr",
     "output_type": "stream",
     "text": [
      "C:\\Users\\lenovo\\AppData\\Local\\Temp\\ipykernel_5216\\3013844442.py:3: DeprecationWarning: \n",
      "Pyarrow will become a required dependency of pandas in the next major release of pandas (pandas 3.0),\n",
      "(to allow more performant data types, such as the Arrow string type, and better interoperability with other libraries)\n",
      "but was not found to be installed on your system.\n",
      "If this would cause problems for you,\n",
      "please provide us feedback at https://github.com/pandas-dev/pandas/issues/54466\n",
      "        \n",
      "  import pandas as pd\n"
     ]
    }
   ],
   "source": [
    "import datetime\n",
    "import random\n",
    "import pandas as pd\n",
    "import numpy as np\n",
    "df = pd.DataFrame(columns=['Booking_ID', 'Booking_Date', 'Show_Date', 'Time', 'Name', 'Seat','Status'])\n",
    "time = {1:'1st show 12:00 pm to 3:00 pm',2:'2nd show 4:00 pm to 7:00 pm',3:'3rd show 8:00 pm to 11:00 pm'}\n",
    "booking_detail = {}\n",
    "# booking_detail = {'04/01/2024':{'show_1_seats': 200,'show_2_seats': 200,'show_3_seats': 200}}\n",
    "insert_seat = {\n",
    "        'show_1_seats': 200,\n",
    "        'show_2_seats': 200,\n",
    "        'show_3_seats': 200\n",
    "}\n",
    "#seat frame\n",
    "seat = np.arange(1, 201, dtype=int)\n",
    "seat1 = np.arange(1, 201, dtype=int)\n",
    "seat2 = np.arange(1, 201, dtype=int)\n",
    "# booking_seat = {'04/01/2024':{'show_1_seats': seat.copy(),'show_2_seats': seat1.copy(),'show_3_seats': seat2.copy()}}\n",
    "booking_seat = {}\n",
    "add_seat_for_booking = {'show_1_seats': seat.copy(),'show_2_seats': seat1.copy(),'show_3_seats': seat2.copy()}\n",
    "# this dataframe is store userId name user data\n",
    "datafr = pd.DataFrame(columns=['Name', 'LogIn_ID', 'Password', 'sequrity_key1', 'sequrity_key2'])\n",
    "# this database special because its admin database\n",
    "data_admin = pd.DataFrame({\n",
    "    'Name': ['admin'],\n",
    "    'LogIn_ID': ['demo'],\n",
    "    'Password': ['demo123@']\n",
    "})"
   ]
  },
  {
   "cell_type": "code",
   "execution_count": 3,
   "id": "3e096eb3-a529-4558-9d71-6c53bfbc5ee9",
   "metadata": {},
   "outputs": [],
   "source": [
    "# this funcation is clear dict data in previous date for date dict (booking_detail) \n",
    "def auto_clear_old_entries():\n",
    "    global booking_detail\n",
    "    today = datetime.datetime.now().strftime('%d/%m/%Y')\n",
    "    yesterday = (datetime.datetime.now() - datetime.timedelta(days=1)).strftime('%d/%m/%Y')\n",
    "    if yesterday in booking_detail:\n",
    "        del booking_detail[yesterday]\n",
    "\n",
    "\n"
   ]
  },
  {
   "cell_type": "code",
   "execution_count": 4,
   "id": "e5ee6c14-1ce3-4e6d-b585-1f87d5170ce6",
   "metadata": {},
   "outputs": [],
   "source": [
    "# this funcation is clear dict data in previous date for seat array data not date dict data(booking_seat)\n",
    "def auto_clear_booking_seat_data():\n",
    "    global booking_seat\n",
    "    today = datetime.datetime.now().strftime('%d/%m/%Y')\n",
    "    yesterday = (datetime.datetime.now() - datetime.timedelta(days=1)).strftime('%d/%m/%Y')\n",
    "\n",
    "    if yesterday in booking_seat:\n",
    "        del booking_seat[yesterday]"
   ]
  },
  {
   "cell_type": "code",
   "execution_count": 5,
   "id": "59cfc24b-a103-4012-962d-972ecc35c07e",
   "metadata": {},
   "outputs": [],
   "source": [
    "# this method is check seat according to the user input date\n",
    "def display_available_seats(show_time, show_timing):\n",
    "    global insert_seat\n",
    "    global booking_detail\n",
    "    date_book = show_timing\n",
    "    time_book = f'show_{show_time}_seats'\n",
    "    \n",
    "    if date_book in booking_detail and time_book in booking_detail[date_book]:\n",
    "        s = booking_detail[date_book][time_book]\n",
    "        return s\n",
    "    else:\n",
    "        if date_book not in booking_detail:\n",
    "            booking_detail[date_book] = insert_seat.copy()\n",
    "\n",
    "        if time_book not in booking_detail[date_book]:\n",
    "            booking_detail[date_book][time_book] = insert_seat[time_book]\n",
    "\n",
    "        s = booking_detail[date_book][time_book]\n",
    "        return s\n",
    "\n"
   ]
  },
  {
   "cell_type": "code",
   "execution_count": 6,
   "id": "0b8e275f-2c11-4c81-a204-3cde99fa774a",
   "metadata": {},
   "outputs": [],
   "source": [
    "# this method is print the seats array according to date and showe time \n",
    "def seat_array_user_choice(show_time, show_timing):\n",
    "    global add_seat_for_booking\n",
    "    global booking_seat\n",
    "    show_time = f'show_{show_time}_seats'\n",
    "    show_timing = show_timing\n",
    "    if show_timing in booking_seat and show_time in booking_seat[show_timing]:\n",
    "        show_seat = booking_seat[show_timing][show_time]\n",
    "\n",
    "        return show_seat.copy()\n",
    "    else:\n",
    "        if show_timing not in booking_seat:\n",
    "            booking_seat[show_timing] = add_seat_for_booking.copy()\n",
    "        show_seat = booking_seat[show_timing][show_time]\n",
    "        return show_seat.copy()\n",
    "\n"
   ]
  },
  {
   "cell_type": "code",
   "execution_count": 7,
   "id": "99fc5d0d-93f0-492e-a575-20ebbed5f36e",
   "metadata": {},
   "outputs": [],
   "source": [
    "# this method is book the user choice seat\n",
    "def user_choice_seat_book(time, show_time, show_timing):\n",
    "    chair = seat_array_user_choice(show_time, show_timing)\n",
    "    print(chair)\n",
    "    while 1:\n",
    "        s = int(input('Enter the seat no: '))\n",
    "        \n",
    "        if s == 0 or s > 200:\n",
    "            print('Invalid Seat No')\n",
    "        else:\n",
    "            seat_b = s - 1\n",
    "            if chair[seat_b] == 0:\n",
    "                print('This seat is already booked. Please choose another seat.')\n",
    "\n",
    "            else:\n",
    "                print('Seat booked successfully.')\n",
    "                updated_chair = chair.copy()\n",
    "                updated_chair[seat_b] = 0\n",
    "                \n",
    "                # Update only the seat that was booked\n",
    "                booking_seat[show_timing][f'show_{show_time}_seats'] = updated_chair\n",
    "                \n",
    "                return s\n"
   ]
  },
  {
   "cell_type": "code",
   "execution_count": 8,
   "id": "71ab4d92-05bf-4caf-b473-f7113185b3b2",
   "metadata": {},
   "outputs": [],
   "source": [
    "# seat booking\n",
    "def user_detail_evening(show_time, time_show):\n",
    "    current_booking = pd.DataFrame(columns=['Booking_ID', 'Booking_Date', 'Show_Date', 'Time', 'Name', 'Seat', 'Status'])\n",
    "    try:\n",
    "        global df\n",
    "        l_booking_id = []\n",
    "        l_date = []\n",
    "        l_time = []\n",
    "        l_show_date = []\n",
    "        l_booking_status = []\n",
    "        l_name = []\n",
    "        l_seat = []\n",
    "\n",
    "        booking_id = random.randint(10000000, 10000000000)\n",
    "        booking_id_2 = str(booking_id)\n",
    "        date = datetime.datetime.now()\n",
    "        date1 = str(date.strftime('%d-%m-%Y'))\n",
    "\n",
    "        # Get a date within the next 15 days\n",
    "        today = datetime.datetime.now()\n",
    "        end_date = today + datetime.timedelta(days=15)\n",
    "        while 1:\n",
    "            show_timing = input(f\"Enter Date ({today.strftime('%d/%m/%Y')} - {end_date.strftime('%d/%m/%Y')}): \")\n",
    "            auto_clear_old_entries() # this funcation delete date dictionary data\n",
    "            auto_clear_booking_seat_data() # this funcation delete data array frame\n",
    "            if today <= datetime.datetime.strptime(show_timing, '%d/%m/%Y') <= end_date:\n",
    "                available_seats = display_available_seats(show_time,show_timing)\n",
    "                print(f\"Available seats: {available_seats} for {time_show}: \")\n",
    "                T_status = 'Booked'\n",
    "                while 1:\n",
    "                    persion = int(input(\"Enter the number of seats: \"))\n",
    "                    if persion == 0:\n",
    "                        print('Please Enter at least 1 Customer:')\n",
    "                    else:\n",
    "                        if show_time == 1:\n",
    "                            time = '12:00 pm to 3:00 pm'\n",
    "                            for i in range(persion):\n",
    "                                if display_available_seats(show_time, show_timing):\n",
    "                                    name = input(\"Enter your name: \").title()\n",
    "                                    selected_seat = user_choice_seat_book(time,show_time,show_timing)\n",
    "                                    if selected_seat == 'go':\n",
    "                                        print('Wrong Input')\n",
    "                                        return\n",
    "                                    else:\n",
    "                                        l_booking_id.append(booking_id_2)\n",
    "                                        l_date.append(date1)\n",
    "                                        l_time.append(time)\n",
    "                                        l_show_date.append(show_timing)\n",
    "                                        l_name.append(name)\n",
    "                                        l_seat.append(selected_seat)\n",
    "                                        l_booking_status.append(T_status)\n",
    "                                        booking_detail[show_timing][f'show_{show_time}_seats'] -= 1\n",
    "                                        \n",
    "                                else:\n",
    "                                    print(\"Seat not available\")\n",
    "                        elif show_time == 2:\n",
    "                            time = '4:00 pm to 7:00 pm'\n",
    "                            for i in range(persion):\n",
    "                                if display_available_seats(show_time, show_timing):\n",
    "                                    name = input(\"Enter your name: \").title()\n",
    "                                    selected_seat = user_choice_seat_book(time,show_time,show_timing)\n",
    "                                    if selected_seat == 'go':\n",
    "                                        print('Wrong Input')\n",
    "                                        return\n",
    "                                    else:\n",
    "                                        l_booking_id.append(booking_id_2)\n",
    "                                        l_date.append(date1)\n",
    "                                        l_time.append(time)\n",
    "                                        l_show_date.append(show_timing)\n",
    "                                        l_name.append(name)\n",
    "                                        l_seat.append(selected_seat)\n",
    "                                        l_booking_status.append(T_status)\n",
    "                                        booking_detail[show_timing][f'show_{show_time}_seats'] -= 1\n",
    "                                else:\n",
    "                                    print(\"Seat not available\")\n",
    "                        elif show_time == 3:\n",
    "                            time = '8:00 pm to 11:00 pm'\n",
    "                            for i in range(persion):\n",
    "                                if display_available_seats(show_time, show_timing):\n",
    "                                    name = input(\"Enter your name: \").title()\n",
    "                                    selected_seat = user_choice_seat_book(time,show_time,show_timing)\n",
    "                                    if selected_seat == 'go':\n",
    "                                        print('Wrong Input')\n",
    "                                        return\n",
    "                                    else:\n",
    "                                        l_booking_id.append(booking_id_2)\n",
    "                                        l_date.append(date1)\n",
    "                                        l_time.append(time)\n",
    "                                        l_show_date.append(show_timing)\n",
    "                                        l_name.append(name)\n",
    "                                        l_seat.append(selected_seat)\n",
    "                                        l_booking_status.append(T_status)\n",
    "                                        booking_detail[show_timing][f'show_{show_time}_seats'] -= 1\n",
    "                                else:\n",
    "                                    print(\"Seat not available\")\n",
    "        \n",
    "                        new_data = pd.DataFrame({\n",
    "                            'Booking_ID': l_booking_id,\n",
    "                            'Booking_Date': l_date,\n",
    "                            'Show_Date': l_show_date,\n",
    "                            'Time': l_time,\n",
    "                            'Name': l_name,\n",
    "                            'Seat': l_seat,\n",
    "                            'Status': l_booking_status\n",
    "                        })\n",
    "                        Current_booking_show = pd.DataFrame({\n",
    "                            'Booking_ID': l_booking_id,\n",
    "                            'Booking_Date': l_date,\n",
    "                            'Show_Date': l_show_date,\n",
    "                            'Time': l_time,\n",
    "                            'Name': l_name,\n",
    "                            'Seat': l_seat,\n",
    "                            'Status': l_booking_status\n",
    "                        })\n",
    "                        current_booking = pd.concat([current_booking, Current_booking_show], ignore_index=True)\n",
    "                        df = pd.concat([df, new_data], ignore_index=True)\n",
    "                        print(current_booking)\n",
    "                        print('Booking confirmed')\n",
    "                        return \n",
    "            else:\n",
    "                print(\"Invalid date. Please choose a date within the next 15 days.\")\n",
    "\n",
    "    except Exception as e:\n",
    "        print(f\"An error occurred: {e}\")\n",
    "        print(\"Please retry.\")\n",
    "\n",
    "    return\n",
    "\n",
    "# user_detail_evening(1, '1st show 12:00 pm to 3:00 pm')"
   ]
  },
  {
   "cell_type": "code",
   "execution_count": 9,
   "id": "2b7af17e-2699-42f1-a872-bb46f417a762",
   "metadata": {},
   "outputs": [],
   "source": [
    "# store index no in list.\n",
    "def creat_list_index():\n",
    "    try:\n",
    "        l_Position_Can_Ticket = []\n",
    "        print(\"\"\"\n",
    "    Press 'Y' For Cancel\n",
    "    Press 'N' for Exit\n",
    "    \"\"\") \n",
    "        \n",
    "        option_cancel_ticket = (input(\" : \")).upper()\n",
    "    except Exception as e:\n",
    "        print(f\"An error occurred: {e}\")\n",
    "    else:\n",
    "        if option_cancel_ticket == 'Y':\n",
    "            \n",
    "            while True:\n",
    "                Persion_Position = (input(\"Enter The Serial No. For Cancel Ticket (or 'N' to exit): \")).upper()\n",
    "                if Persion_Position == 'N':\n",
    "                    break\n",
    "                elif Persion_Position.isnumeric() == True :\n",
    "                    Persion = int(Persion_Position)\n",
    "                    l_Position_Can_Ticket.append(Persion)\n",
    "            Can_detail = df.loc[l_Position_Can_Ticket]\n",
    "            return l_Position_Can_Ticket \n",
    "        \n",
    "        elif option_cancel_ticket == 'N':\n",
    "            \n",
    "            return \"Exiting ticket cancellation.\"  \n"
   ]
  },
  {
   "cell_type": "code",
   "execution_count": 10,
   "id": "f99665d4-6b58-4427-a076-a7ec7340c6d3",
   "metadata": {},
   "outputs": [],
   "source": [
    "# Function to update seat array when a user cancels a seat\n",
    "def given_seat_cancel(Can_detail, show_time, dtime):\n",
    "    global df\n",
    "    global booking_seat\n",
    "    for i in Can_detail:\n",
    "        d = df['Seat'].loc[i]\n",
    "        # array index given this variable\n",
    "        seat_given = d - 1\n",
    "        booking_seat[dtime][f'show_{show_time}_seats'][seat_given] = d\n",
    "\n",
    "    # # Update the seat array in the booking_seat dictionary\n",
    "    # booking_seat[dtime][f'show_{show_time}_seats'] = bookseat.copy()\n",
    "\n",
    "    return"
   ]
  },
  {
   "cell_type": "code",
   "execution_count": 11,
   "id": "48927b1e-680a-45f5-bb86-ddbe28865cb5",
   "metadata": {},
   "outputs": [],
   "source": [
    "# this code give the show time to cancel ticket\n",
    "def get_show_time(can_detail):\n",
    "    global df\n",
    "    show_index = can_detail[0]\n",
    "    return df['Time'].loc[show_index]"
   ]
  },
  {
   "cell_type": "code",
   "execution_count": 12,
   "id": "292cda28-b86c-4466-b60a-e5d8cb606af4",
   "metadata": {},
   "outputs": [],
   "source": [
    "# this is given date with help of cancel booking\n",
    "def given_date_cancel(Can_detail):\n",
    "    global df\n",
    "    dtime = Can_detail[0]\n",
    "    d = df['Show_Date'].loc[dtime]\n",
    "    return d"
   ]
  },
  {
   "cell_type": "code",
   "execution_count": 13,
   "id": "79f25cd5-c8db-4fb6-95c0-34c8c067746a",
   "metadata": {},
   "outputs": [],
   "source": [
    "# this function is cancel the ticket and update the array and seat after the cancel the ticket -:\n",
    "def cancel_book_ticket():\n",
    "    try:\n",
    "        global df\n",
    "        print(df)\n",
    "        print('**********Cancel Book Ticket**********')\n",
    "    except Exception as e:\n",
    "        print(f\"An error occurred: {e}\")\n",
    "        \n",
    "    else:\n",
    "        while 1:\n",
    "            booking_id_to_find = (input(\"Enter booking Id or press 0 foe Exit: \"))\n",
    "            if booking_id_to_find == '0':\n",
    "                return \n",
    "            elif 'Booking_ID' in df.columns:\n",
    "                specific_booking = df.loc[df['Booking_ID'] == booking_id_to_find]\n",
    "                \n",
    "                if not specific_booking.empty:\n",
    "                    required_data = specific_booking[['Booking_ID', 'Booking_Date', 'Show_Date', 'Time', 'Name', 'Seat', 'Status']]\n",
    "                    print(required_data)\n",
    "                    can_detail = creat_list_index()  \n",
    "                    print(can_detail)\n",
    "                    con_firn = input('Are you Confirm For Cancel Ticket(\"Y For Cancel, N For Exit): ').upper()\n",
    "                    len_of_list = len(can_detail)\n",
    "                    dtime =  given_date_cancel(can_detail) # this funcation will be return date\n",
    "                    l_position_can_ticket = []\n",
    "                    show_time_back = get_show_time(can_detail)  # This function gives the show time, which will be used to update seats in the particular array\n",
    "                    if show_time_back == '12:00 pm to 3:00 pm': \n",
    "                        if con_firn == 'Y':\n",
    "                            df.loc[can_detail, 'Status'] = 'Canceled'\n",
    "                            booking_detail[dtime][f'show_{1}_seats'] += len_of_list\n",
    "                            given_seat_cancel(can_detail, 1 , dtime)\n",
    "                            print(\"Tickets canceled successfully.\")\n",
    "                        elif con_firn == 'N':\n",
    "                            print(\"Ticket cancellation aborted.\")  \n",
    "                    elif show_time_back == '4:00 pm to 7:00 pm': \n",
    "                        if con_firn == 'Y':\n",
    "                            df.loc[can_detail, 'Status'] = 'Canceled'\n",
    "                            booking_detail[dtime][f'show_{2}_seats'] += len_of_list\n",
    "                            given_seat_cancel(can_detail, 2 , dtime)\n",
    "                            print(\"Tickets canceled successfully.\")\n",
    "                        elif con_firn == 'N':\n",
    "                            print(\"Ticket cancellation aborted.\") \n",
    "                    elif show_time_back == '8:00 pm to 11:00 pm': \n",
    "                        if con_firn == 'Y':\n",
    "                            df.loc[can_detail, 'Status'] = 'Canceled'\n",
    "                            booking_detail[dtime][f'show_{3}_seats'] += len_of_list\n",
    "                            given_seat_cancel(can_detail, 3 , dtime)\n",
    "                            print(\"Tickets canceled successfully.\")\n",
    "                        elif con_firn == 'N':\n",
    "                            print(\"Ticket cancellation aborted.\")  \n",
    "                    \n",
    "                else:\n",
    "                    print(\"Booking ID not found.\")\n",
    "                    \n",
    "            else:\n",
    "                print(\"Booking details not available.\")\n",
    "    print(df)\n",
    "    return"
   ]
  },
  {
   "cell_type": "code",
   "execution_count": 14,
   "id": "31f9a374-2b39-48bd-9736-f1fc6c85f6cd",
   "metadata": {},
   "outputs": [],
   "source": [
    "def check_booking_history():   \n",
    "        global df\n",
    "        print('**********Check Booking Transaction**********')\n",
    "        print(df)\n",
    "        while 1:\n",
    "            booking_id_to_find = (input(\"Search Booking or press 0 for Exit: \"))\n",
    "            if booking_id_to_find == '0':\n",
    "                return \n",
    "            elif 'Booking_ID' in df.columns:\n",
    "                specific_booking = df.loc[df['Booking_ID'] == booking_id_to_find]\n",
    "                \n",
    "                if not specific_booking.empty:\n",
    "                    required_data = specific_booking[['Booking_ID', 'Name', 'Booking_Date', 'Show_Date', 'Time', 'Seat','Status']]\n",
    "                    return required_data\n",
    "                else:\n",
    "                   print(\"Booking ID not found.\")\n",
    "\n",
    "\n",
    "\n"
   ]
  },
  {
   "cell_type": "code",
   "execution_count": null,
   "id": "21814d6e-8aec-4187-ad12-0665dfb0a989",
   "metadata": {},
   "outputs": [],
   "source": []
  },
  {
   "cell_type": "code",
   "execution_count": 15,
   "id": "73f10af0-4883-4913-8b95-45d6c8db0490",
   "metadata": {},
   "outputs": [],
   "source": [
    "def booking_Ticket():\n",
    "    try:\n",
    "        print(\"\"\"1st show 12:00 pm to 3:00 pm,\n",
    "2nd show 4:00 pm to 7:00 pm, \n",
    "3rd show 8:00pm  to 11:00pm \"\"\")\n",
    "        print('---------------------------------------------------------------------')\n",
    "        show_time  = int(input(\"\"\" press 1 for 1st show\n",
    "press 2 for 2nd show\n",
    "press 3 for 3rd show:\n",
    "\"\"\"))\n",
    "    except Exception as e:\n",
    "        print(f\"An error occurred: {e}\")\n",
    "    else:\n",
    "        for keys,values in time.items():\n",
    "            if keys == show_time:\n",
    "                time_show = values\n",
    "                print(time_show)\n",
    "                user_detail_evening(show_time,time_show)\n",
    "                return"
   ]
  },
  {
   "cell_type": "code",
   "execution_count": 16,
   "id": "9150c3ac-9a85-4116-ab21-ab16e925a802",
   "metadata": {},
   "outputs": [
    {
     "name": "stdout",
     "output_type": "stream",
     "text": [
      "**********Welcome**********\n"
     ]
    },
    {
     "name": "stdin",
     "output_type": "stream",
     "text": [
      "Enter 1 For Booking:\n",
      "    Enter 2 For Booking History:\n",
      "    Enter 3 For Cancel Booking:\n",
      "    Enter 4 For Logout:\n",
      "     1\n"
     ]
    },
    {
     "name": "stdout",
     "output_type": "stream",
     "text": [
      "1st show 12:00 pm to 3:00 pm,\n",
      "2nd show 4:00 pm to 7:00 pm, \n",
      "3rd show 8:00pm  to 11:00pm \n",
      "---------------------------------------------------------------------\n"
     ]
    },
    {
     "name": "stdin",
     "output_type": "stream",
     "text": [
      " press 1 for 1st show\n",
      "press 2 for 2nd show\n",
      "press 3 for 3rd show:\n",
      " 1\n"
     ]
    },
    {
     "name": "stdout",
     "output_type": "stream",
     "text": [
      "1st show 12:00 pm to 3:00 pm\n"
     ]
    },
    {
     "name": "stdin",
     "output_type": "stream",
     "text": [
      "Enter Date (18/03/2024 - 02/04/2024):  25/03/2024\n"
     ]
    },
    {
     "name": "stdout",
     "output_type": "stream",
     "text": [
      "Available seats: 200 for 1st show 12:00 pm to 3:00 pm: \n"
     ]
    },
    {
     "name": "stdin",
     "output_type": "stream",
     "text": [
      "Enter the number of seats:  1\n",
      "Enter your name:  Vishal Patwa\n"
     ]
    },
    {
     "name": "stdout",
     "output_type": "stream",
     "text": [
      "[  1   2   3   4   5   6   7   8   9  10  11  12  13  14  15  16  17  18\n",
      "  19  20  21  22  23  24  25  26  27  28  29  30  31  32  33  34  35  36\n",
      "  37  38  39  40  41  42  43  44  45  46  47  48  49  50  51  52  53  54\n",
      "  55  56  57  58  59  60  61  62  63  64  65  66  67  68  69  70  71  72\n",
      "  73  74  75  76  77  78  79  80  81  82  83  84  85  86  87  88  89  90\n",
      "  91  92  93  94  95  96  97  98  99 100 101 102 103 104 105 106 107 108\n",
      " 109 110 111 112 113 114 115 116 117 118 119 120 121 122 123 124 125 126\n",
      " 127 128 129 130 131 132 133 134 135 136 137 138 139 140 141 142 143 144\n",
      " 145 146 147 148 149 150 151 152 153 154 155 156 157 158 159 160 161 162\n",
      " 163 164 165 166 167 168 169 170 171 172 173 174 175 176 177 178 179 180\n",
      " 181 182 183 184 185 186 187 188 189 190 191 192 193 194 195 196 197 198\n",
      " 199 200]\n"
     ]
    },
    {
     "name": "stdin",
     "output_type": "stream",
     "text": [
      "Enter the seat no:  10\n"
     ]
    },
    {
     "name": "stdout",
     "output_type": "stream",
     "text": [
      "Seat booked successfully.\n",
      "   Booking_ID Booking_Date   Show_Date                 Time          Name  \\\n",
      "0  4589581926   18-03-2024  25/03/2024  12:00 pm to 3:00 pm  Vishal Patwa   \n",
      "\n",
      "  Seat  Status  \n",
      "0   10  Booked  \n",
      "Booking confirmed\n",
      "**********Welcome**********\n"
     ]
    },
    {
     "name": "stdin",
     "output_type": "stream",
     "text": [
      "Enter 1 For Booking:\n",
      "    Enter 2 For Booking History:\n",
      "    Enter 3 For Cancel Booking:\n",
      "    Enter 4 For Logout:\n",
      "     2\n"
     ]
    },
    {
     "name": "stdout",
     "output_type": "stream",
     "text": [
      "**********Check Booking Transaction**********\n",
      "   Booking_ID Booking_Date   Show_Date                 Time          Name  \\\n",
      "0  4589581926   18-03-2024  25/03/2024  12:00 pm to 3:00 pm  Vishal Patwa   \n",
      "\n",
      "  Seat  Status  \n",
      "0   10  Booked  \n"
     ]
    },
    {
     "name": "stdin",
     "output_type": "stream",
     "text": [
      "Search Booking or press 0 for Exit:  0\n"
     ]
    },
    {
     "name": "stdout",
     "output_type": "stream",
     "text": [
      "None\n",
      "**********Welcome**********\n"
     ]
    },
    {
     "name": "stdin",
     "output_type": "stream",
     "text": [
      "Enter 1 For Booking:\n",
      "    Enter 2 For Booking History:\n",
      "    Enter 3 For Cancel Booking:\n",
      "    Enter 4 For Logout:\n",
      "     3\n"
     ]
    },
    {
     "name": "stdout",
     "output_type": "stream",
     "text": [
      "   Booking_ID Booking_Date   Show_Date                 Time          Name  \\\n",
      "0  4589581926   18-03-2024  25/03/2024  12:00 pm to 3:00 pm  Vishal Patwa   \n",
      "\n",
      "  Seat  Status  \n",
      "0   10  Booked  \n",
      "**********Cancel Book Ticket**********\n"
     ]
    },
    {
     "name": "stdin",
     "output_type": "stream",
     "text": [
      "Enter booking Id or press 0 foe Exit:  4589581926\n"
     ]
    },
    {
     "name": "stdout",
     "output_type": "stream",
     "text": [
      "   Booking_ID Booking_Date   Show_Date                 Time          Name  \\\n",
      "0  4589581926   18-03-2024  25/03/2024  12:00 pm to 3:00 pm  Vishal Patwa   \n",
      "\n",
      "  Seat  Status  \n",
      "0   10  Booked  \n",
      "\n",
      "    Press 'Y' For Cancel\n",
      "    Press 'N' for Exit\n",
      "    \n"
     ]
    },
    {
     "name": "stdin",
     "output_type": "stream",
     "text": [
      " :  y\n",
      "Enter The Serial No. For Cancel Ticket (or 'N' to exit):  0\n",
      "Enter The Serial No. For Cancel Ticket (or 'N' to exit):  n\n"
     ]
    },
    {
     "name": "stdout",
     "output_type": "stream",
     "text": [
      "[0]\n"
     ]
    },
    {
     "name": "stdin",
     "output_type": "stream",
     "text": [
      "Are you Confirm For Cancel Ticket(\"Y For Cancel, N For Exit):  y\n"
     ]
    },
    {
     "name": "stdout",
     "output_type": "stream",
     "text": [
      "Tickets canceled successfully.\n"
     ]
    },
    {
     "name": "stdin",
     "output_type": "stream",
     "text": [
      "Enter booking Id or press 0 foe Exit:  0\n"
     ]
    },
    {
     "name": "stdout",
     "output_type": "stream",
     "text": [
      "**********Welcome**********\n"
     ]
    },
    {
     "name": "stdin",
     "output_type": "stream",
     "text": [
      "Enter 1 For Booking:\n",
      "    Enter 2 For Booking History:\n",
      "    Enter 3 For Cancel Booking:\n",
      "    Enter 4 For Logout:\n",
      "     2\n"
     ]
    },
    {
     "name": "stdout",
     "output_type": "stream",
     "text": [
      "**********Check Booking Transaction**********\n",
      "   Booking_ID Booking_Date   Show_Date                 Time          Name  \\\n",
      "0  4589581926   18-03-2024  25/03/2024  12:00 pm to 3:00 pm  Vishal Patwa   \n",
      "\n",
      "  Seat    Status  \n",
      "0   10  Canceled  \n"
     ]
    },
    {
     "name": "stdin",
     "output_type": "stream",
     "text": [
      "Search Booking or press 0 for Exit:  0\n"
     ]
    },
    {
     "name": "stdout",
     "output_type": "stream",
     "text": [
      "None\n",
      "**********Welcome**********\n"
     ]
    },
    {
     "name": "stdin",
     "output_type": "stream",
     "text": [
      "Enter 1 For Booking:\n",
      "    Enter 2 For Booking History:\n",
      "    Enter 3 For Cancel Booking:\n",
      "    Enter 4 For Logout:\n",
      "     1\n"
     ]
    },
    {
     "name": "stdout",
     "output_type": "stream",
     "text": [
      "1st show 12:00 pm to 3:00 pm,\n",
      "2nd show 4:00 pm to 7:00 pm, \n",
      "3rd show 8:00pm  to 11:00pm \n",
      "---------------------------------------------------------------------\n"
     ]
    },
    {
     "name": "stdin",
     "output_type": "stream",
     "text": [
      " press 1 for 1st show\n",
      "press 2 for 2nd show\n",
      "press 3 for 3rd show:\n",
      " 1\n"
     ]
    },
    {
     "name": "stdout",
     "output_type": "stream",
     "text": [
      "1st show 12:00 pm to 3:00 pm\n"
     ]
    },
    {
     "name": "stdin",
     "output_type": "stream",
     "text": [
      "Enter Date (18/03/2024 - 02/04/2024):  25/03/2025\n"
     ]
    },
    {
     "name": "stdout",
     "output_type": "stream",
     "text": [
      "Invalid date. Please choose a date within the next 15 days.\n"
     ]
    },
    {
     "name": "stdin",
     "output_type": "stream",
     "text": [
      "Enter Date (18/03/2024 - 02/04/2024):  25/03/2024\n"
     ]
    },
    {
     "name": "stdout",
     "output_type": "stream",
     "text": [
      "Available seats: 200 for 1st show 12:00 pm to 3:00 pm: \n"
     ]
    },
    {
     "name": "stdin",
     "output_type": "stream",
     "text": [
      "Enter the number of seats:  1\n",
      "Enter your name:  hg\n"
     ]
    },
    {
     "name": "stdout",
     "output_type": "stream",
     "text": [
      "[  1   2   3   4   5   6   7   8   9  10  11  12  13  14  15  16  17  18\n",
      "  19  20  21  22  23  24  25  26  27  28  29  30  31  32  33  34  35  36\n",
      "  37  38  39  40  41  42  43  44  45  46  47  48  49  50  51  52  53  54\n",
      "  55  56  57  58  59  60  61  62  63  64  65  66  67  68  69  70  71  72\n",
      "  73  74  75  76  77  78  79  80  81  82  83  84  85  86  87  88  89  90\n",
      "  91  92  93  94  95  96  97  98  99 100 101 102 103 104 105 106 107 108\n",
      " 109 110 111 112 113 114 115 116 117 118 119 120 121 122 123 124 125 126\n",
      " 127 128 129 130 131 132 133 134 135 136 137 138 139 140 141 142 143 144\n",
      " 145 146 147 148 149 150 151 152 153 154 155 156 157 158 159 160 161 162\n",
      " 163 164 165 166 167 168 169 170 171 172 173 174 175 176 177 178 179 180\n",
      " 181 182 183 184 185 186 187 188 189 190 191 192 193 194 195 196 197 198\n",
      " 199 200]\n"
     ]
    },
    {
     "name": "stdin",
     "output_type": "stream",
     "text": [
      "Enter the seat no:  200\n"
     ]
    },
    {
     "name": "stdout",
     "output_type": "stream",
     "text": [
      "Seat booked successfully.\n",
      "   Booking_ID Booking_Date   Show_Date                 Time Name Seat  Status\n",
      "0  6413722268   18-03-2024  25/03/2024  12:00 pm to 3:00 pm   Hg  200  Booked\n",
      "Booking confirmed\n",
      "**********Welcome**********\n"
     ]
    },
    {
     "name": "stdin",
     "output_type": "stream",
     "text": [
      "Enter 1 For Booking:\n",
      "    Enter 2 For Booking History:\n",
      "    Enter 3 For Cancel Booking:\n",
      "    Enter 4 For Logout:\n",
      "     4\n"
     ]
    }
   ],
   "source": [
    "## cinema ticket booking\n",
    "def customer_booking_now():\n",
    "    while 1:\n",
    "        print(\"**********Welcome**********\")\n",
    "        mode = int(input(\"\"\"Enter 1 For Booking:\n",
    "    Enter 2 For Booking History:\n",
    "    Enter 3 For Cancel Booking:\n",
    "    Enter 4 For Logout:\n",
    "    \"\"\"))\n",
    "        if mode == 1:\n",
    "             booking_Ticket()\n",
    "        elif mode == 2:\n",
    "             result = check_booking_history()\n",
    "             print(result)\n",
    "        elif mode == 4:\n",
    "            break\n",
    "        elif mode == 3:\n",
    "            cancel_book_ticket()\n",
    "customer_booking_now()\n",
    "   "
   ]
  },
  {
   "cell_type": "code",
   "execution_count": null,
   "id": "78078a7f-3a39-41c6-8ff3-7d1d5fa6ba67",
   "metadata": {},
   "outputs": [],
   "source": []
  }
 ],
 "metadata": {
  "kernelspec": {
   "display_name": "Python 3 (ipykernel)",
   "language": "python",
   "name": "python3"
  },
  "language_info": {
   "codemirror_mode": {
    "name": "ipython",
    "version": 3
   },
   "file_extension": ".py",
   "mimetype": "text/x-python",
   "name": "python",
   "nbconvert_exporter": "python",
   "pygments_lexer": "ipython3",
   "version": "3.12.1"
  },
  "widgets": {
   "application/vnd.jupyter.widget-state+json": {
    "state": {},
    "version_major": 2,
    "version_minor": 0
   }
  }
 },
 "nbformat": 4,
 "nbformat_minor": 5
}
